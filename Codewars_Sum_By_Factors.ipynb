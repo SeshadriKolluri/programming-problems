{
 "cells": [
  {
   "cell_type": "markdown",
   "metadata": {},
   "source": [
    "https://www.codewars.com/kata/54d496788776e49e6b00052f/train/python\n",
    "\n",
    "Given a list of integers, the function below returns the prime factors of the product of the integers in the list, along with the sum of elements of the list divisible by each of the prime factors. See above URL for more explanation. "
   ]
  },
  {
   "cell_type": "code",
   "execution_count": 54,
   "metadata": {},
   "outputs": [],
   "source": [
    "def sum_for_list(lst):\n",
    "    a = []\n",
    "    for i in range(2,abs(max(lst,key=abs))+1):\n",
    "        is_i_prime = True\n",
    "        for prime in [item[0] for item in a]:\n",
    "            if i % prime == 0:\n",
    "                is_i_prime = False\n",
    "                break\n",
    "        if is_i_prime:\n",
    "            i_sum = 0\n",
    "            found = False\n",
    "            for num in lst:\n",
    "                if num % i == 0:\n",
    "                    found = True\n",
    "                    i_sum += num\n",
    "            if found:\n",
    "                a.append([i, i_sum])\n",
    "        \n",
    "    return a"
   ]
  },
  {
   "cell_type": "code",
   "execution_count": 55,
   "metadata": {},
   "outputs": [
    {
     "data": {
      "text/plain": [
       "[[2, 10], [5, 45], [7, 35]]"
      ]
     },
     "execution_count": 55,
     "metadata": {},
     "output_type": "execute_result"
    }
   ],
   "source": [
    "sum_for_list([-10,20,35])"
   ]
  }
 ],
 "metadata": {
  "kernelspec": {
   "display_name": "Python 3",
   "language": "python",
   "name": "python3"
  },
  "language_info": {
   "codemirror_mode": {
    "name": "ipython",
    "version": 3
   },
   "file_extension": ".py",
   "mimetype": "text/x-python",
   "name": "python",
   "nbconvert_exporter": "python",
   "pygments_lexer": "ipython3",
   "version": "3.6.3"
  }
 },
 "nbformat": 4,
 "nbformat_minor": 2
}
