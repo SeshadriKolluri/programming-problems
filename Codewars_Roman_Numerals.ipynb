{
 "cells": [
  {
   "cell_type": "markdown",
   "metadata": {},
   "source": [
    "https://www.codewars.com/kata/roman-numerals-encoder\n",
    "Create a function taking a positive integer as its parameter and returning a string containing the Roman Numeral representation of that integer."
   ]
  },
  {
   "cell_type": "code",
   "execution_count": 4,
   "metadata": {
    "collapsed": true
   },
   "outputs": [],
   "source": [
    "# My Solution\n",
    "def solution(n):\n",
    "    decimal_digits = str(n)\n",
    "    num_of_digits = len(decimal_digits)\n",
    "    units_digit = decimal_digits[num_of_digits-1]\n",
    "    \n",
    "    if num_of_digits > 1:\n",
    "        tens_digit = decimal_digits[num_of_digits-2]\n",
    "        if num_of_digits > 2:\n",
    "            hundreds_digit = decimal_digits[num_of_digits-3]\n",
    "        else: \n",
    "            hundreds_digit = '0'\n",
    "    else: \n",
    "        tens_digit = '0'\n",
    "        hundreds_digit = '0'\n",
    "    thousands = int(n/1000)\n",
    "    roman_units = {'1': 'I', '2': 'II', '3': 'III', '4': 'IV', '5': 'V', '6': 'VI', '7': 'VII', '8': 'VIII', '9': 'IX','0':''}\n",
    "    roman_tens = {'1': 'X', '2': 'XX', '3': 'XXX', '4': 'XL', '5': 'L', '6': 'LX', '7': 'LXX', '8': 'LXXX', '9': 'XC','0':''}\n",
    "    roman_hundreds = {'1': 'C', '2': 'CC', '3': 'CCC', '4': 'CD', '5': 'D', '6': 'DC', '7': 'DCC', '8': 'DCCC', '9': 'CM','0':''}\n",
    "    \n",
    "    roman_value = \"M\"*thousands+roman_hundreds[hundreds_digit]+roman_tens[tens_digit]+roman_units[units_digit]\n",
    "    return roman_value"
   ]
  },
  {
   "cell_type": "code",
   "execution_count": 5,
   "metadata": {},
   "outputs": [
    {
     "name": "stdout",
     "output_type": "stream",
     "text": [
      "1: I\n",
      "19: XIX\n",
      "345: CCCXLV\n"
     ]
    }
   ],
   "source": [
    "# A few test cases\n",
    "print(\"1: \" + solution(1))\n",
    "print(\"19: \" + solution(19))\n",
    "print(\"345: \" + solution(345))"
   ]
  }
 ],
 "metadata": {
  "kernelspec": {
   "display_name": "Python 3",
   "language": "python",
   "name": "python3"
  },
  "language_info": {
   "codemirror_mode": {
    "name": "ipython",
    "version": 3
   },
   "file_extension": ".py",
   "mimetype": "text/x-python",
   "name": "python",
   "nbconvert_exporter": "python",
   "pygments_lexer": "ipython3",
   "version": "3.6.1"
  }
 },
 "nbformat": 4,
 "nbformat_minor": 2
}
