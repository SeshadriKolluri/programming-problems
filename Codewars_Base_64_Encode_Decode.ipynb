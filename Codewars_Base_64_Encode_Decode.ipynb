{
 "cells": [
  {
   "cell_type": "markdown",
   "metadata": {},
   "source": [
    "https://www.codewars.com/kata/5270f22f862516c686000161\n",
    "    \n",
    "create a function (Python, C#) that converts the value of the String to and from Base64 using the ASCII character set. Please see examples after the code"
   ]
  },
  {
   "cell_type": "code",
   "execution_count": 4,
   "metadata": {
    "collapsed": true
   },
   "outputs": [],
   "source": [
    "def to_base_64(string):\n",
    "    letters = list(string)\n",
    "    digits = ''\n",
    "    for letter in letters:\n",
    "        digits += format(ord(letter),'08b')\n",
    "    encoded = ''\n",
    "    \n",
    "    while len(digits) > 0:\n",
    "        offset = int(digits[:6],2)\n",
    "        if offset < 26:\n",
    "            letter = chr(ord('A')+offset)\n",
    "        elif offset < 52:\n",
    "            letter = chr(ord('a')+offset-26)\n",
    "        elif offset < 62:\n",
    "            letter = chr(ord('0')+offset-52)\n",
    "        elif offset == 63:\n",
    "            letter = '+'\n",
    "        else:\n",
    "            letter = '/'\n",
    "\n",
    "        encoded = encoded + letter\n",
    "        digits = digits[6:]\n",
    "        if len(digits) < 6 and len(digits) > 0:\n",
    "            digits = (digits + '000000')[:6]\n",
    "    return encoded\n",
    "\n",
    "    \n",
    "def from_base_64(string):\n",
    "    master_string = 'ABCDEFGHIJKLMNOPQRSTUVWXYZabcdefghijklmnopqrstuvwxyz0123456789+/'\n",
    "    letters = list(string)\n",
    "    digits = ''\n",
    "    for letter in letters:\n",
    "        digits += format(master_string.index(letter),'06b')\n",
    "    encoded = ''\n",
    "\n",
    "    while len(digits) > 0:\n",
    "        offset = int(digits[:8],2)\n",
    "        if offset == 0:\n",
    "            break\n",
    "        letter = chr(offset)\n",
    "        encoded = encoded + letter\n",
    "        digits = digits[8:]\n",
    "    return encoded"
   ]
  },
  {
   "cell_type": "code",
   "execution_count": 5,
   "metadata": {},
   "outputs": [
    {
     "name": "stdout",
     "output_type": "stream",
     "text": [
      "dGhpcyBpcyBhIHN0cmluZyEh\n",
      "this is a string!!\n"
     ]
    }
   ],
   "source": [
    "print(to_base_64('this is a string!!')) #should return 'dGhpcyBpcyBhIHN0cmluZyEh'\n",
    "print(from_base_64('dGhpcyBpcyBhIHN0cmluZyEh')) #'this is a string!!'"
   ]
  }
 ],
 "metadata": {
  "kernelspec": {
   "display_name": "Python 3",
   "language": "python",
   "name": "python3"
  },
  "language_info": {
   "codemirror_mode": {
    "name": "ipython",
    "version": 3
   },
   "file_extension": ".py",
   "mimetype": "text/x-python",
   "name": "python",
   "nbconvert_exporter": "python",
   "pygments_lexer": "ipython3",
   "version": "3.6.1"
  }
 },
 "nbformat": 4,
 "nbformat_minor": 2
}
