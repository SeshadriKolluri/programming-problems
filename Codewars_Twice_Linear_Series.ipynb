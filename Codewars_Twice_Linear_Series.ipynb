{
 "cells": [
  {
   "cell_type": "markdown",
   "metadata": {},
   "source": [
    "https://www.codewars.com/kata/twice-linear/\n",
    "\n",
    "Consider a sequence u where u is defined as follows:\n",
    "\n",
    "The number u(0) = 1 is the first one in u.\n",
    "For each x in u, then y = 2 * x + 1 and z = 3 * x + 1 must be in u too.\n",
    "There are no other numbers in u.\n",
    "Ex: u = [1, 3, 4, 7, 9, 10, 13, 15, 19, 21, 22, 27, ...]\n",
    "\n",
    "1 gives 3 and 4, then 3 gives 7 and 10, 4 gives 9 and 13, then 7 gives 15 and 22 and so on...\n",
    "\n",
    "#Task: Given parameter n the function dbl_linear (or dblLinear...) returns the element u(n) of the ordered (with <) sequence u.\n"
   ]
  },
  {
   "cell_type": "code",
   "execution_count": 24,
   "metadata": {},
   "outputs": [
    {
     "name": "stdout",
     "output_type": "stream",
     "text": [
      "0 1\n",
      "1 3\n",
      "2 4\n",
      "3 7\n",
      "4 9\n",
      "5 10\n",
      "6 13\n",
      "7 15\n",
      "8 19\n",
      "9 21\n",
      "10 22\n",
      "11 27\n",
      "12 28\n",
      "13 31\n",
      "14 39\n"
     ]
    }
   ],
   "source": [
    "def dbl_linear(n):\n",
    "    dbl_linear_array = [1]\n",
    "    running_index = 0\n",
    "    while running_index < n :\n",
    "        dbl_linear_array.append(2*dbl_linear_array[running_index]+1)\n",
    "        dbl_linear_array.append(3*dbl_linear_array[running_index]+1)\n",
    "        dbl_linear_array = sorted(set(dbl_linear_array))\n",
    "        running_index = running_index + 1\n",
    "    dbl_linear_array = sorted(set(dbl_linear_array))\n",
    "    return dbl_linear_array[n]\n",
    "\n",
    "for i in range(0,100):\n",
    "    print(i,dbl_linear(i))"
   ]
  },
  {
   "cell_type": "code",
   "execution_count": null,
   "metadata": {
    "collapsed": true
   },
   "outputs": [],
   "source": []
  }
 ],
 "metadata": {
  "kernelspec": {
   "display_name": "Python 3",
   "language": "python",
   "name": "python3"
  },
  "language_info": {
   "codemirror_mode": {
    "name": "ipython",
    "version": 3
   },
   "file_extension": ".py",
   "mimetype": "text/x-python",
   "name": "python",
   "nbconvert_exporter": "python",
   "pygments_lexer": "ipython3",
   "version": "3.6.1"
  }
 },
 "nbformat": 4,
 "nbformat_minor": 2
}
