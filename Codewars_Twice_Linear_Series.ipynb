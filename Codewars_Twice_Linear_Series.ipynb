{
 "cells": [
  {
   "cell_type": "markdown",
   "metadata": {},
   "source": [
    "https://www.codewars.com/kata/twice-linear/\n",
    "\n",
    "Consider a sequence u where u is defined as follows:\n",
    "\n",
    "The number u(0) = 1 is the first one in u.\n",
    "For each x in u, then y = 2 * x + 1 and z = 3 * x + 1 must be in u too.\n",
    "There are no other numbers in u.\n",
    "Ex: u = [1, 3, 4, 7, 9, 10, 13, 15, 19, 21, 22, 27, ...]\n",
    "\n",
    "1 gives 3 and 4, then 3 gives 7 and 10, 4 gives 9 and 13, then 7 gives 15 and 22 and so on...\n",
    "\n",
    "#Task: Given parameter n the function dbl_linear (or dblLinear...) returns the element u(n) of the ordered (with <) sequence u.\n"
   ]
  },
  {
   "cell_type": "code",
   "execution_count": 46,
   "metadata": {},
   "outputs": [],
   "source": [
    "import bisect\n",
    "def dbl_linear(n):\n",
    "    dbl_linear_array = [1,3,4,7,10]\n",
    "    running_index = 2\n",
    "    while running_index < n :\n",
    "        k = 2*dbl_linear_array[running_index]+1\n",
    "        bisect.insort(dbl_linear_array,k)\n",
    "        dbl_linear_array.append(3*dbl_linear_array[running_index]+1)\n",
    "        running_index = running_index + 1\n",
    "    dbl_linear_array = sorted(set(dbl_linear_array))\n",
    "    return dbl_linear_array[n]"
   ]
  },
  {
   "cell_type": "code",
   "execution_count": 47,
   "metadata": {},
   "outputs": [
    {
     "name": "stdout",
     "output_type": "stream",
     "text": [
      "22 should be 22\n",
      "57 should be 57\n",
      "91 should be 91\n",
      "175 should be 175\n"
     ]
    }
   ],
   "source": [
    "print(dbl_linear(10), \"should be 22\")\n",
    "print(dbl_linear(20), \"should be 57\")\n",
    "print(dbl_linear(30), \"should be 91\")\n",
    "print(dbl_linear(50), \"should be 175\")"
   ]
  }
 ],
 "metadata": {
  "kernelspec": {
   "display_name": "Python 3",
   "language": "python",
   "name": "python3"
  },
  "language_info": {
   "codemirror_mode": {
    "name": "ipython",
    "version": 3
   },
   "file_extension": ".py",
   "mimetype": "text/x-python",
   "name": "python",
   "nbconvert_exporter": "python",
   "pygments_lexer": "ipython3",
   "version": "3.6.1"
  }
 },
 "nbformat": 4,
 "nbformat_minor": 2
}
