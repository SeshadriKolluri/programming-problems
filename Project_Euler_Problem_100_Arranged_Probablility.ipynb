{
 "cells": [
  {
   "cell_type": "markdown",
   "metadata": {},
   "source": [
    "https://projecteuler.net/problem=100\n",
    "Please see the above URL for problem description. "
   ]
  },
  {
   "cell_type": "code",
   "execution_count": 3,
   "metadata": {},
   "outputs": [
    {
     "name": "stdout",
     "output_type": "stream",
     "text": [
      "4 3 0.5 4.0 4e-12\n",
      "21 15 0.5 5.25 2.1e-11\n",
      "120 85 0.5 5.714285714285714 1.2e-10\n",
      "697 493 0.5 5.808333333333334 6.97e-10\n",
      "4060 2871 0.5 5.824964131994261 4.06e-09\n",
      "23661 16731 0.5 5.827832512315271 2.3661e-08\n",
      "137904 97513 0.5 5.828325091923419 1.37904e-07\n",
      "803761 568345 0.5 5.828409618285184 8.03761e-07\n",
      "4684660 3312555 0.5 5.828424121100675 4.68466e-06\n",
      "27304197 19306983 0.5 5.82842660940175 2.7304197e-05\n",
      "159140520 112529341 0.5 5.828427036327053 0.00015914052\n",
      "927538921 655869061 0.5 5.828427109575864 0.000927538921\n",
      "5406093004 3822685023 0.5 5.828427122143373 0.005406093004\n",
      "31509019101 22280241075 0.5 5.828427124299617 0.031509019101\n",
      "183648021600 129858761425 0.5 5.82842712466957 0.1836480216\n",
      "1070379110497 756872327473 0.5 5.828427124733044 1.070379110497\n",
      "6238626641380 4411375203411 0.5 5.828427124743935 6.23862664138\n",
      "time taken = 0.007339000701904297\n"
     ]
    }
   ],
   "source": [
    "from __future__ import division\n",
    "import time, math\n",
    "\n",
    "start_time = time.time()\n",
    "\n",
    "min_total_disks = 2;\n",
    "max_total_disks = 1E13;\n",
    "\n",
    "# As we observe the numbers that result in a probability of 0.5 for drawing two blue disks,\n",
    "# it appears that the ratio between successive numbers is somewhere in between 5 and 6.\n",
    "# From successive iterations, it appears the total number of disks increases by a factor close to 5.828,\n",
    "# marginally increasing everytime.\n",
    "\n",
    "# This solution makes use of that property. Need to understand why that is the case.\n",
    "\n",
    "i = 2\n",
    "last_number = 1\n",
    "while i < max_total_disks:\n",
    "        k = 0.5*i*(i-1)\n",
    "        if((1+math.sqrt(1+4*k))%2 == 0):\n",
    "                j = (1+math.sqrt(1+4*k))/2\n",
    "                print(int(i),int(j),(j*(j-1))/(i*(i-1)), i/last_number, i/1E12)\n",
    "                ratio = i/last_number;\n",
    "                last_number = i\n",
    "                i = math.floor(ratio*i)\n",
    "        else:\n",
    "                i = i + 1\n",
    "                #break\n",
    "\n",
    "print(\"time taken =\", time.time() - start_time)"
   ]
  }
 ],
 "metadata": {
  "kernelspec": {
   "display_name": "Python 3",
   "language": "python",
   "name": "python3"
  },
  "language_info": {
   "codemirror_mode": {
    "name": "ipython",
    "version": 3
   },
   "file_extension": ".py",
   "mimetype": "text/x-python",
   "name": "python",
   "nbconvert_exporter": "python",
   "pygments_lexer": "ipython3",
   "version": "3.6.1"
  }
 },
 "nbformat": 4,
 "nbformat_minor": 2
}
