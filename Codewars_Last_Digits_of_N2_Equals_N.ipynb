{
 "cells": [
  {
   "cell_type": "markdown",
   "metadata": {},
   "source": [
    "https://www.codewars.com/kata/last-digits-of-n-2-equals-equals-n/"
   ]
  },
  {
   "cell_type": "code",
   "execution_count": 31,
   "metadata": {},
   "outputs": [
    {
     "data": {
      "text/plain": [
       "9580863811000557423423230896109004106619977392256259918212890625"
      ]
     },
     "execution_count": 31,
     "metadata": {},
     "output_type": "execute_result"
    }
   ],
   "source": [
    "def green(n):\n",
    "    greenlist = [1,5,6]\n",
    "    greenlist_past_j = [1,5,6]\n",
    "    j_digits = 1\n",
    "    i = 3\n",
    "    while i < n:\n",
    "        j_digits = j_digits + 1\n",
    "        greenlist_current_j = []\n",
    "        for past_number in greenlist_past_j:\n",
    "            for k in range(0,10):\n",
    "                str_j = str(k)+str(past_number)\n",
    "                j = int(str_j)\n",
    "                if ((j*j - j) % pow(10,len(str_j)) == 0):\n",
    "                    greenlist_current_j.append(str_j)\n",
    "                    if len(str_j) == len(str(j)):\n",
    "                        greenlist.append(j)\n",
    "                        i = i +1 \n",
    "        greenlist_past_j = greenlist_current_j\n",
    "    \n",
    "    #print(greenlist)\n",
    "    return(greenlist[n-1])\n",
    "\n",
    "green(110)\n",
    "\n",
    "## n^2 - n - k*pow(10,int(log(n)+1)) = 0\n",
    "## n = (1 + sqrt(1+ 4*k*pow(10,int(log(n)+1))))/2"
   ]
  }
 ],
 "metadata": {
  "kernelspec": {
   "display_name": "Python 3",
   "language": "python",
   "name": "python3"
  },
  "language_info": {
   "codemirror_mode": {
    "name": "ipython",
    "version": 3
   },
   "file_extension": ".py",
   "mimetype": "text/x-python",
   "name": "python",
   "nbconvert_exporter": "python",
   "pygments_lexer": "ipython3",
   "version": "3.6.1"
  }
 },
 "nbformat": 4,
 "nbformat_minor": 2
}
