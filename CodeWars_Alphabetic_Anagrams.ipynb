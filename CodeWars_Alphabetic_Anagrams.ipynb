{
 "cells": [
  {
   "cell_type": "markdown",
   "metadata": {},
   "source": [
    "https://www.codewars.com/kata/alphabetic-anagrams/\n",
    "\n",
    "The program should return the rank of the given word (with possibly repeated letters), when all its anagrams arranged alphabetically. \n",
    "\n",
    "Sample words, with their rank:\n",
    "ABAB = 2\n",
    "AAAB = 1\n",
    "BAAA = 4\n",
    "QUESTION = 24572\n",
    "BOOKKEEPER = 10743"
   ]
  },
  {
   "cell_type": "code",
   "execution_count": 12,
   "metadata": {
    "collapsed": true
   },
   "outputs": [],
   "source": [
    "import math            \n",
    "def num_words(starting_letter,word):\n",
    "    if len(word) <= 1:\n",
    "        return 1\n",
    "    all_letters = list(word)\n",
    "    remaining_letters = list(word)\n",
    "    for i in range(0,len(remaining_letters)):\n",
    "        if starting_letter == remaining_letters[i]:\n",
    "            remaining_letters.pop(i)\n",
    "            break\n",
    "    remaining_uniques = list(set(remaining_letters))\n",
    "    num_words = math.factorial(len(remaining_letters))\n",
    "    # Total number of ways in which you can re-arrange the leters\n",
    "    # when there are repetitions\n",
    "    for letter in remaining_uniques:\n",
    "        num_words = num_words / math.factorial(remaining_letters.count(letter))\n",
    "    return num_words\n",
    "\n",
    "def listPosition(word):\n",
    "    if len(word) <= 1:\n",
    "        return 1\n",
    "    first_letter = word[0]\n",
    "    unique_letters = sorted(list(set(list(word))))\n",
    "    letters_before_first_letter = unique_letters[:unique_letters.index(first_letter)]\n",
    "    position = 0\n",
    "    for letter in letters_before_first_letter:\n",
    "        position += num_words(letter,word)\n",
    "    new_word = word[1:]\n",
    "    position += listPosition(new_word)\n",
    "    return int(position)"
   ]
  },
  {
   "cell_type": "code",
   "execution_count": 13,
   "metadata": {},
   "outputs": [
    {
     "name": "stdout",
     "output_type": "stream",
     "text": [
      "ABAB 2\n",
      "QUESTION 24572\n",
      "BOOKKEEPER 10743\n"
     ]
    }
   ],
   "source": [
    "# Test Cases\n",
    "print(\"ABAB \" + str(listPosition(\"ABAB\")))\n",
    "print(\"QUESTION \" + str(listPosition(\"QUESTION\")))\n",
    "print(\"BOOKKEEPER \" + str(listPosition(\"BOOKKEEPER\")))"
   ]
  }
 ],
 "metadata": {
  "kernelspec": {
   "display_name": "Python 3",
   "language": "python",
   "name": "python3"
  },
  "language_info": {
   "codemirror_mode": {
    "name": "ipython",
    "version": 3
   },
   "file_extension": ".py",
   "mimetype": "text/x-python",
   "name": "python",
   "nbconvert_exporter": "python",
   "pygments_lexer": "ipython3",
   "version": "3.6.1"
  }
 },
 "nbformat": 4,
 "nbformat_minor": 2
}
