{
 "cells": [
  {
   "cell_type": "markdown",
   "metadata": {},
   "source": [
    "For problem description see: \n",
    "\n",
    "https://projecteuler.net/problem=51\n"
   ]
  },
  {
   "cell_type": "code",
   "execution_count": 165,
   "metadata": {},
   "outputs": [
    {
     "name": "stdout",
     "output_type": "stream",
     "text": [
      "1299709\n"
     ]
    },
    {
     "data": {
      "text/plain": [
       "['121313',\n",
       " '222323',\n",
       " '323333',\n",
       " '424343',\n",
       " '525353',\n",
       " '626363',\n",
       " '828383',\n",
       " '929393']"
      ]
     },
     "execution_count": 165,
     "metadata": {},
     "output_type": "execute_result"
    }
   ],
   "source": [
    "import re\n",
    "\n",
    "def find_prime_family(family_size):\n",
    "    \n",
    "    # Function to check primes\n",
    "    # Uses previous prime factors for faster checking\n",
    "    def prime_check(n,prime_list):\n",
    "        for i in prime_list:\n",
    "            if n%i == 0:\n",
    "                return False\n",
    "            if i*i > n:\n",
    "                return True\n",
    "        return True\n",
    "\n",
    "    current_number = 3\n",
    "    prime_list = [2]\n",
    "\n",
    "    # Total Numberof primes considered\n",
    "    n = 100000\n",
    "\n",
    "    while len(prime_list) < n:\n",
    "        if prime_check(current_number,prime_list):\n",
    "            prime_list.append(current_number)\n",
    "        current_number = current_number + 2\n",
    "    print(prime_list[-1])\n",
    "    prime_string = ' '+' '.join(map(str, prime_list))\n",
    "    \n",
    "    for prime in prime_list:\n",
    "        for digit in str(prime)[:-1]:\n",
    "            #make use of named groups in regular expressions\n",
    "            re_string =(' ('+re.sub('p1','(?P=dt)',re.sub('p1','(?P<dt>[0-9])',\n",
    "                                                          re.sub(digit,'p1',str(prime)[:-1]),1))+str(prime)[-1]+') ')\n",
    "            a = re.findall(re_string,prime_string)\n",
    "            if len(a) >= family_size:\n",
    "                return(list(m[0] for m in a))\n",
    "\n",
    "find_prime_family(8)\n",
    "            "
   ]
  },
  {
   "cell_type": "code",
   "execution_count": null,
   "metadata": {
    "collapsed": true
   },
   "outputs": [],
   "source": []
  }
 ],
 "metadata": {
  "kernelspec": {
   "display_name": "Python 3",
   "language": "python",
   "name": "python3"
  },
  "language_info": {
   "codemirror_mode": {
    "name": "ipython",
    "version": 3
   },
   "file_extension": ".py",
   "mimetype": "text/x-python",
   "name": "python",
   "nbconvert_exporter": "python",
   "pygments_lexer": "ipython3",
   "version": "3.6.3"
  }
 },
 "nbformat": 4,
 "nbformat_minor": 2
}
