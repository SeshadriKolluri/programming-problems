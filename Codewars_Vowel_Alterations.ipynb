{
 "cells": [
  {
   "cell_type": "markdown",
   "metadata": {},
   "source": [
    "https://www.codewars.com/kata/vowel-alternations/"
   ]
  },
  {
   "cell_type": "code",
   "execution_count": null,
   "metadata": {},
   "outputs": [],
   "source": [
    "vowels = list('aeiou')\n",
    "\n",
    "def is_vowel_alternate(word1,word2):\n",
    "    if len(word1) != len(word2):\n",
    "        return False\n",
    "    else:\n",
    "        num_differences = 0\n",
    "        for i in range(len(word1)):\n",
    "            if word1[i] != word2[i]:\n",
    "                if word1[i] in vowels and word2[i] in vowels and num_differences == 0:\n",
    "                    num_differences = 1\n",
    "                else:\n",
    "                    return False\n",
    "    return num_differences\n",
    "\n",
    "def find_solutions(words):\n",
    "    word_sets = {}\n",
    "    for i in range(len(words)):\n",
    "        if words[i] != \"\":\n",
    "            word_sets.update({words[i]:words[i:i+1]})\n",
    "        for j in range(i+1,len(words)):\n",
    "            if is_vowel_alternate(words[i],words[j]):\n",
    "                word_sets[words[i]].append(words[j])\n",
    "                words[j] = \"\"\n",
    "    solutions = []\n",
    "    for item in word_sets:\n",
    "        if len(word_sets[item]) > 1:\n",
    "            solutions.append(word_sets[item])\n",
    "    sorted_soultions = sorted(sorted(solution) for solution in solutions)\n",
    "    return sorted_soultions"
   ]
  },
  {
   "cell_type": "code",
   "execution_count": 12,
   "metadata": {},
   "outputs": [
    {
     "data": {
      "text/plain": [
       "[['blacks', 'blocks'], ['blander', 'blender', 'blinder', 'blonder', 'blunder']]"
      ]
     },
     "execution_count": 12,
     "metadata": {},
     "output_type": "execute_result"
    }
   ],
   "source": [
    "# Test Cases\n",
    "words = ['blackcaps', 'blackguard', 'blacks', 'blague', 'blancmange',\n",
    "     'blander', 'blastular', 'blawort', 'blender', 'blimbing',\n",
    "     'blinder', 'blistered', 'blocks', 'blonde', 'blonder',\n",
    "     'blotchier', 'blowlamp', 'blue', 'bluejays', 'blunder']\n",
    "\n",
    "find_solutions(words)"
   ]
  }
 ],
 "metadata": {
  "kernelspec": {
   "display_name": "Python 3",
   "language": "python",
   "name": "python3"
  },
  "language_info": {
   "codemirror_mode": {
    "name": "ipython",
    "version": 3
   },
   "file_extension": ".py",
   "mimetype": "text/x-python",
   "name": "python",
   "nbconvert_exporter": "python",
   "pygments_lexer": "ipython3",
   "version": "3.6.1"
  }
 },
 "nbformat": 4,
 "nbformat_minor": 2
}
