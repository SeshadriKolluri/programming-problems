{
 "cells": [
  {
   "cell_type": "markdown",
   "metadata": {},
   "source": [
    "https://www.codewars.com/kata/52a89c2ea8ddc5547a000863\n",
    "\n",
    "You are given a node that is the beginning of a linked list. This list always contains a tail and a loop.Your objective is to determine the length of the loop."
   ]
  },
  {
   "cell_type": "code",
   "execution_count": null,
   "metadata": {
    "collapsed": true
   },
   "outputs": [],
   "source": [
    "# My Solution\n",
    "def loop_size(node):\n",
    "    #First we want to identify a point inside the loop\n",
    "    #This can be done by using two pointers, one moving twice as fast as the other\n",
    "    #If the start at the same point, they will meet again some where in the loop\n",
    "    nodea = node\n",
    "    nodeb = node\n",
    "    nodea = nodea.next\n",
    "    nodeb = (nodeb.next).next\n",
    "    while nodea != nodeb:\n",
    "        nodea = nodea.next\n",
    "        nodeb = (nodeb.next).next\n",
    "    #At this stage, node is an object inside the loop.\n",
    "    #We move the second pointer around the loop till it comes back to the same point again.]\n",
    "    #That gives us the length of the loop\n",
    "    i = 1\n",
    "    nodeb = nodeb.next\n",
    "    while nodea != nodeb:\n",
    "        nodeb = nodeb.next\n",
    "        i = i+1\n",
    "    return i"
   ]
  }
 ],
 "metadata": {
  "kernelspec": {
   "display_name": "Python 3",
   "language": "python",
   "name": "python3"
  },
  "language_info": {
   "codemirror_mode": {
    "name": "ipython",
    "version": 3
   },
   "file_extension": ".py",
   "mimetype": "text/x-python",
   "name": "python",
   "nbconvert_exporter": "python",
   "pygments_lexer": "ipython3",
   "version": "3.6.1"
  }
 },
 "nbformat": 4,
 "nbformat_minor": 2
}
