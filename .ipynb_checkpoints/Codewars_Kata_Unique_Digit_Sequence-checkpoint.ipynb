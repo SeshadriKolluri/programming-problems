{
 "cells": [
  {
   "cell_type": "markdown",
   "metadata": {},
   "source": [
    "https://www.codewars.com/kata/599688d0e2800dda4e0001b0\n",
    "\n",
    "Please see the above URL problem description. \n",
    "\n",
    "Consider a series that has the following property:\n",
    "\n",
    "0,1,2,3,4,5,6,7,8,9,10,22,11,20..There is nothing special between numbers 0 and 10. For all other numbers, the next element in the series is the lowest number that doesn't contain any digits of the previous one, and is not already in the series.\n",
    "\n",
    "You will be given an index number and your task will be return the element at that position. See test cases for more examples."
   ]
  },
  {
   "cell_type": "code",
   "execution_count": 5,
   "metadata": {
    "collapsed": true
   },
   "outputs": [],
   "source": [
    "# My Solution\n",
    "\n",
    "def find_num(n):\n",
    "    unique_digit_sequence = list(range(0,11))\n",
    "    if n < 11:\n",
    "        return unique_digit_sequence[n]\n",
    "    else:\n",
    "        for i in range(11,n+1):\n",
    "            for j in range(11,5000):\n",
    "                if j not in unique_digit_sequence and set(list(str(unique_digit_sequence[i-1]))).isdisjoint(set(list(str(j)))):\n",
    "                    unique_digit_sequence.append(j)\n",
    "                    break\n",
    "        return unique_digit_sequence[n]"
   ]
  },
  {
   "cell_type": "code",
   "execution_count": 9,
   "metadata": {},
   "outputs": [
    {
     "name": "stdout",
     "output_type": "stream",
     "text": [
      "0 1 2 3 4 5 6 7 8 9 10 22 11 20 13 "
     ]
    }
   ],
   "source": [
    "#Print the first 15 numbers of unique digit sequence using the above function\n",
    "for i in range(0,15):\n",
    "    print(find_num(i), end=\" \")"
   ]
  }
 ],
 "metadata": {
  "kernelspec": {
   "display_name": "Python 3",
   "language": "python",
   "name": "python3"
  },
  "language_info": {
   "codemirror_mode": {
    "name": "ipython",
    "version": 3
   },
   "file_extension": ".py",
   "mimetype": "text/x-python",
   "name": "python",
   "nbconvert_exporter": "python",
   "pygments_lexer": "ipython3",
   "version": "3.6.1"
  }
 },
 "nbformat": 4,
 "nbformat_minor": 2
}
